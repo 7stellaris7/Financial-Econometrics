{
 "cells": [
  {
   "cell_type": "markdown",
   "id": "8cddef0a",
   "metadata": {},
   "source": [
    "# HW-01:在 VScode 中运行 Stata 命令\n",
    "- 谢颂凯\n",
    "- 23327087\n",
    "- 简介:通过stata代码生成模拟数据，进行一系列数据分析"
   ]
  },
  {
   "cell_type": "markdown",
   "id": "4dc1efc3",
   "metadata": {},
   "source": [
    "## 生成模拟数据\n",
    "生成模拟数据：N = 500，包含 2 个变量 (x1, x2)，x1 ~ N(0, 1)，x2 ~ N(3, 1.5)，corr(x1, x2) = 0.4。\n",
    "1. 存入一个名为 `simu_01.dta` 的数据文件中。\n",
    "2. 种子值为：087\n",
    "编写上述stata代码"
   ]
  },
  {
   "cell_type": "code",
   "execution_count": null,
   "id": "24f5ee90",
   "metadata": {},
   "outputs": [],
   "source": [
    "// 1. 清除内存中的现有数据\n",
    "clear\n",
    "\n",
    "// 2. 设置样本量为 500\n",
    "set obs 500\n",
    "\n",
    "// 3. 设置随机数种子以保证结果可重复\n",
    "set seed 087\n",
    "\n",
    "// 4. 定义均值向量 (means vector)\n",
    "//    x1 的均值为 0, x2 的均值为 3\n",
    "matrix m = (0, 3)\n",
    "\n",
    "// 5. 定义协方差矩阵 (covariance matrix)\n",
    "//    V = [var(x1), cov(x1,x2); cov(x1,x2), var(x2)]\n",
    "//    其中:\n",
    "//    var(x1) = 1*1 = 1\n",
    "//    var(x2) = 1.5 (根据 N(μ, σ²) 表示法，1.5是方差)\n",
    "//    sd(x2) = sqrt(1.5)\n",
    "//    cov(x1,x2) = corr(x1,x2) * sd(x1) * sd(x2) = 0.4 * 1 * sqrt(1.5)\n",
    "matrix V = (1, 0.4*sqrt(1.5) \\ 0.4*sqrt(1.5), 1.5)\n",
    "\n",
    "// 6. 使用 drawnorm 命令生成变量 x1 和 x2\n",
    "drawnorm x1 x2, means(m) cov(V)\n",
    "\n",
    "// 7. (可选) 验证生成的数据是否符合要求\n",
    "summarize x1 x2\n",
    "correlate x1 x2\n",
    "\n",
    "// 8. 将数据保存到名为 simu_01.dta 的文件中\n",
    "//    replace 选项表示如果文件已存在，则覆盖它\n",
    "save simu_01.dta, replace"
   ]
  },
  {
   "cell_type": "markdown",
   "id": "285781d8",
   "metadata": {},
   "source": [
    "## 呈现 `simu_01.dta` 数据的前 5 行"
   ]
  },
  {
   "cell_type": "code",
   "execution_count": 8,
   "id": "dc831d0d",
   "metadata": {},
   "outputs": [
    {
     "name": "stdout",
     "output_type": "stream",
     "text": [
      "\n",
      "     +----------------------+\n",
      "     |        x1         x2 |\n",
      "     |----------------------|\n",
      "  1. | -.8034894   2.429288 |\n",
      "  2. | -1.435991   3.386871 |\n",
      "  3. |  .2313487    2.81246 |\n",
      "  4. |  .0261813   1.177852 |\n",
      "  5. | -1.181219   2.619012 |\n",
      "     +----------------------+\n"
     ]
    }
   ],
   "source": [
    "use simu_01.dta, clear\n",
    "list in 1/5"
   ]
  },
  {
   "cell_type": "markdown",
   "id": "05f84f9d",
   "metadata": {},
   "source": [
    "simu_01.dta 数据的前 5 行:\n",
    "```stata\n",
    "     +----------------------+\n",
    "     |        x1         x2 |\n",
    "     |----------------------|\n",
    "  1. | -.8034894   2.429288 |\n",
    "  2. | -1.435991   3.386871 |\n",
    "  3. |  .2313487    2.81246 |\n",
    "  4. |  .0261813   1.177852 |\n",
    "  5. | -1.181219   2.619012 |\n",
    "     +----------------------+\n",
    "```"
   ]
  },
  {
   "cell_type": "markdown",
   "id": "8e241982",
   "metadata": {},
   "source": [
    "## 描述性统计"
   ]
  },
  {
   "cell_type": "code",
   "execution_count": 9,
   "id": "46255558",
   "metadata": {},
   "outputs": [
    {
     "name": "stdout",
     "output_type": "stream",
     "text": [
      "\n",
      "                             x1\n",
      "-------------------------------------------------------------\n",
      "      Percentiles      Smallest\n",
      " 1%     -2.12617      -2.951128\n",
      " 5%    -1.563986      -2.540977\n",
      "10%     -1.28319      -2.351074       Obs                 500\n",
      "25%    -.6986496      -2.280713       Sum of wgt.         500\n",
      "\n",
      "50%    -.0011425                      Mean           -.022554\n",
      "                        Largest       Std. dev.      .9576662\n",
      "75%     .5673724       2.339435\n",
      "90%     1.204286       2.375871       Variance       .9171245\n",
      "95%     1.593007       2.661858       Skewness       .0358253\n",
      "99%     2.167189       2.787422       Kurtosis       2.887577\n",
      "\n",
      "                             x2\n",
      "-------------------------------------------------------------\n",
      "      Percentiles      Smallest\n",
      " 1%    -.0667188      -.6384518\n",
      " 5%     .8367096      -.4681826\n",
      "10%     1.303884      -.4197974       Obs                 500\n",
      "25%     2.075824      -.2873194       Sum of wgt.         500\n",
      "\n",
      "50%     2.931678                      Mean           2.898204\n",
      "                        Largest       Std. dev.      1.242615\n",
      "75%      3.71045       6.035809\n",
      "90%     4.464235       6.102357       Variance       1.544093\n",
      "95%     4.990766       6.257462       Skewness      -.0163623\n",
      "99%     5.940177       6.634243       Kurtosis       3.025088\n"
     ]
    }
   ],
   "source": [
    "summarize x1 x2, detail"
   ]
  },
  {
   "cell_type": "markdown",
   "id": "bcd87bea",
   "metadata": {},
   "source": [
    "simu_01.dta 的描述性统计:\n",
    "```stata\n",
    "                             x1\n",
    "-------------------------------------------------------------\n",
    "      Percentiles      Smallest\n",
    " 1%     -2.12617      -2.951128\n",
    " 5%    -1.563986      -2.540977\n",
    "10%     -1.28319      -2.351074       Obs                 500\n",
    "25%    -.6986496      -2.280713       Sum of wgt.         500\n",
    "\n",
    "50%    -.0011425                      Mean           -.022554\n",
    "                        Largest       Std. dev.      .9576662\n",
    "75%     .5673724       2.339435\n",
    "90%     1.204286       2.375871       Variance       .9171245\n",
    "95%     1.593007       2.661858       Skewness       .0358253\n",
    "99%     2.167189       2.787422       Kurtosis       2.887577\n",
    "\n",
    "                             x2\n",
    "-------------------------------------------------------------\n",
    "      Percentiles      Smallest\n",
    " 1%    -.0667188      -.6384518\n",
    " 5%     .8367096      -.4681826\n",
    "10%     1.303884      -.4197974       Obs                 500\n",
    "25%     2.075824      -.2873194       Sum of wgt.         500\n",
    "\n",
    "50%     2.931678                      Mean           2.898204\n",
    "                        Largest       Std. dev.      1.242615\n",
    "75%      3.71045       6.035809\n",
    "90%     4.464235       6.102357       Variance       1.544093\n",
    "95%     4.990766       6.257462       Skewness      -.0163623\n",
    "99%     5.940177       6.634243       Kurtosis       3.025088\n",
    "```"
   ]
  },
  {
   "cell_type": "markdown",
   "id": "2bb7192b",
   "metadata": {},
   "source": [
    "## 呈现 x1 的直方图"
   ]
  },
  {
   "cell_type": "code",
   "execution_count": null,
   "id": "9b2e773e",
   "metadata": {},
   "outputs": [],
   "source": [
    "histogram x1, normal title(\"Histogram of x1\")\n",
    "graph export \"histogram_x1.svg\", replace"
   ]
  },
  {
   "cell_type": "markdown",
   "id": "24088128",
   "metadata": {},
   "source": [
    "以下为 x1 的直方图\n",
    "\n",
    "![x1的直方图](./histogram_x1.svg)"
   ]
  },
  {
   "cell_type": "markdown",
   "id": "f50dea07",
   "metadata": {},
   "source": [
    "## 导出 x1 和 x2 的密度函数图"
   ]
  },
  {
   "cell_type": "code",
   "execution_count": null,
   "id": "65d37d7a",
   "metadata": {},
   "outputs": [],
   "source": [
    "\n",
    "twoway (kdensity x1) (kdensity x2), ///\n",
    "    title(\"Kernel Density Plots\") ///\n",
    "    legend(label(1 \"Density of x1\") label(2 \"Density of x2\"))\n",
    "graph export \"density_plots.svg\", replace"
   ]
  },
  {
   "cell_type": "markdown",
   "id": "2710fcd5",
   "metadata": {},
   "source": [
    "密度函数图\n",
    "\n",
    "!['density_plots'](density_plots.svg)"
   ]
  },
  {
   "cell_type": "markdown",
   "id": "e737d4c8",
   "metadata": {},
   "source": [
    "## 在同一幅图中绘制 x1 和 x2 的箱线图"
   ]
  },
  {
   "cell_type": "code",
   "execution_count": null,
   "id": "0207c280",
   "metadata": {},
   "outputs": [],
   "source": [
    "graph box x1 x2, title(\"Box Plots of x1 and x2\")\n",
    "graph export \"box_plots.svg\", replace"
   ]
  },
  {
   "cell_type": "markdown",
   "id": "b8d33fa1",
   "metadata": {},
   "source": [
    "x1 和 x2 的箱型图\n",
    "\n",
    "![箱型图](box_plots.svg)"
   ]
  },
  {
   "cell_type": "markdown",
   "id": "4ff87701",
   "metadata": {},
   "source": [
    "## 生成 x1 和 x2 的小提琴"
   ]
  },
  {
   "cell_type": "code",
   "execution_count": null,
   "id": "494eb083",
   "metadata": {},
   "outputs": [],
   "source": [
    "/* capture ssc install vioplot */\n",
    "vioplot x1 x2, title(\"Violin Plots of x1 and x2\")\n",
    "graph export \"violin_plots.svg\", replace"
   ]
  },
  {
   "cell_type": "markdown",
   "id": "9cee76e0",
   "metadata": {},
   "source": [
    "小提琴图\n",
    "\n",
    "![小提琴图](violin_plots.svg)"
   ]
  },
  {
   "cell_type": "markdown",
   "id": "7ecb1a05",
   "metadata": {},
   "source": [
    "## 计算 x1 和 x2 的相关系数"
   ]
  },
  {
   "cell_type": "code",
   "execution_count": null,
   "id": "b7696ce4",
   "metadata": {},
   "outputs": [],
   "source": [
    "correlate x1 x2"
   ]
  },
  {
   "cell_type": "markdown",
   "id": "8f348fd8",
   "metadata": {},
   "source": [
    "相关系数为:\n",
    "\n",
    "```stata\n",
    "(obs=500)\n",
    "\n",
    "             |       x1       x2\n",
    "-------------+------------------\n",
    "          x1 |   1.0000\n",
    "          x2 |   0.4032   1.0000\n",
    "```"
   ]
  },
  {
   "cell_type": "markdown",
   "id": "f6e9c9ec",
   "metadata": {},
   "source": [
    "## x1 和 x2 的散点图"
   ]
  },
  {
   "cell_type": "code",
   "execution_count": null,
   "id": "30c55920",
   "metadata": {},
   "outputs": [],
   "source": [
    "twoway (scatter x2 x1) (lfitci x2 x1), ///\n",
    "    title(\"Scatter Plot of x2 vs x1 with Regression Line\") ///\n",
    "    ytitle(\"Variable x2\") ///\n",
    "    xtitle(\"Variable x1\")\n",
    "graph export \"scatter_plot.svg\", replace"
   ]
  },
  {
   "cell_type": "markdown",
   "id": "a5038018",
   "metadata": {},
   "source": [
    "散点图\n",
    "\n",
    "![散点图](scatter_plot.svg)"
   ]
  }
 ],
 "metadata": {
  "kernelspec": {
   "display_name": "Stata (nbstata)",
   "language": "stata",
   "name": "nbstata"
  },
  "language_info": {
   "file_extension": ".do",
   "mimetype": "text/x-stata",
   "name": "stata",
   "version": "17"
  }
 },
 "nbformat": 4,
 "nbformat_minor": 5
}
